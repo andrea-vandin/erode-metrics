{
 "cells": [
  {
   "cell_type": "code",
   "execution_count": 1,
   "id": "1ab58d8f-3839-4b6f-8f23-a01ca3e27452",
   "metadata": {},
   "outputs": [],
   "source": [
    "from contextlib import closing\n",
    "import os\n",
    "import platform\n",
    "import socket\n",
    "import subprocess\n",
    "from subprocess import PIPE\n",
    "import tempfile\n",
    "\n",
    "from py4j.java_gateway import JavaGateway, GatewayParameters\n",
    "from py4j.java_collections import ListConverter"
   ]
  },
  {
   "cell_type": "code",
   "execution_count": null,
   "id": "c3d2ba23-1a40-4b84-9752-d8f3ba7a6836",
   "metadata": {},
   "outputs": [],
   "source": []
  },
  {
   "cell_type": "code",
   "execution_count": 24,
   "id": "64ff086a-8c18-45a9-bb0f-f410a529e5ef",
   "metadata": {},
   "outputs": [],
   "source": [
    "__ERODE_JAR__ = \"erodeMetrics.jar\"#os.path.join(os.path.dirname(__file__), \"erodeMetrics.jar\")\n",
    "def _start_server():\n",
    "    # find a free port\n",
    "    for port in range(25333, 65545):\n",
    "        with closing(socket.socket(socket.AF_INET, socket.SOCK_STREAM)) as s:\n",
    "            dest_addr = (\"127.0.0.1\", port)\n",
    "            if s.connect_ex(dest_addr):\n",
    "                break\n",
    "\n",
    "    #ld_path = __ERODE_LIB_DIR__\n",
    "    #java=\"java\"\n",
    "    java =\"/Library/Java/JavaVirtualMachines/jdk-11.0.14.jdk/Contents/Home/bin/java\"\n",
    "    argv = [java, #f'-Djava.library.path=\"{ld_path}\"',\n",
    "                \"-jar\", __ERODE_JAR__, str(port)]\n",
    "\n",
    "    if platform.system() == \"Linux\":\n",
    "        env_ld_path = os.getenv(\"LD_LIBRARY_PATH\")\n",
    "        if env_ld_path:\n",
    "            ld_path = f\"{ld_path}:{env_ld_path}\"\n",
    "        env ={\"LD_LIBRARY_PATH\": ld_path}\n",
    "        proc = subprocess.Popen(\" \".join(argv), stdout=PIPE,\n",
    "                shell=True, env=env)\n",
    "    else:\n",
    "        proc = subprocess.Popen(argv, stdout=PIPE)\n",
    "    proc.stdout.readline()\n",
    "    return proc, port\n",
    "\n",
    "def _stop_server(proc):\n",
    "    proc.terminate()\n",
    "    try:\n",
    "        proc.wait(5)\n",
    "    except subprocess.TimeoutExpired:\n",
    "        proc.kill()\n",
    "        proc.wait()"
   ]
  },
  {
   "cell_type": "code",
   "execution_count": 25,
   "id": "0c9e2e55-3f8b-4371-8ef5-5e9ff84d924c",
   "metadata": {},
   "outputs": [],
   "source": [
    "_proc, _port = _start_server()\n",
    "gw_params = GatewayParameters(port=_port)#, auto_convert=True)\n",
    "_gw = JavaGateway(gateway_parameters=gw_params)\n",
    "erode = _gw.entry_point"
   ]
  },
  {
   "cell_type": "code",
   "execution_count": 26,
   "id": "9a84b0a4-1882-4423-80a0-9217045c9f67",
   "metadata": {},
   "outputs": [
    {
     "data": {
      "text/plain": [
       "<Popen: returncode: None args: ['/Library/Java/JavaVirtualMachines/jdk-11.0....>"
      ]
     },
     "execution_count": 26,
     "metadata": {},
     "output_type": "execute_result"
    }
   ],
   "source": [
    "_proc"
   ]
  },
  {
   "cell_type": "code",
   "execution_count": 27,
   "id": "b3f09ca3-49e4-4ccb-8cc1-2d8275279a92",
   "metadata": {},
   "outputs": [
    {
     "name": "stdout",
     "output_type": "stream",
     "text": [
      "The partition has 1 block out of 3 species:\n",
      "Block 1, Size: 3\n",
      "0-x0 \n",
      "1-x1 \n",
      "2-x2 \n",
      "\n",
      "\n",
      "Solution:\n",
      "Objective value = 3.9\n",
      "x = 1.0\n",
      "y = 0.9\n",
      "\n"
     ]
    }
   ],
   "source": [
    "erode.loadModel(\"AM.ode\");\n",
    "obtained = erode.computeBB();\n",
    "obtained\n",
    "print(erode.getPartitionString(obtained))\n",
    "\n",
    "a=erode.computeMetrics()\n",
    "for s in a:\n",
    "    print(s)"
   ]
  },
  {
   "cell_type": "code",
   "execution_count": 17,
   "id": "48dcafdb-823e-4647-8b69-ee002ae310f8",
   "metadata": {},
   "outputs": [
    {
     "data": {
      "text/plain": [
       "25334"
      ]
     },
     "execution_count": 17,
     "metadata": {},
     "output_type": "execute_result"
    }
   ],
   "source": [
    "_port"
   ]
  },
  {
   "cell_type": "code",
   "execution_count": 11,
   "id": "78dd5f80-49b6-4a74-bd39-048c36567f5b",
   "metadata": {},
   "outputs": [],
   "source": []
  },
  {
   "cell_type": "code",
   "execution_count": 23,
   "id": "bc55ed84-a6fa-4144-a110-7c8a6d8b4074",
   "metadata": {},
   "outputs": [],
   "source": [
    "_stop_server(_proc)"
   ]
  },
  {
   "cell_type": "code",
   "execution_count": null,
   "id": "5f115649-b6aa-4d4a-b699-f7ad241f4f35",
   "metadata": {},
   "outputs": [],
   "source": []
  }
 ],
 "metadata": {
  "kernelspec": {
   "display_name": "env_research",
   "language": "python",
   "name": "env_research"
  },
  "language_info": {
   "codemirror_mode": {
    "name": "ipython",
    "version": 3
   },
   "file_extension": ".py",
   "mimetype": "text/x-python",
   "name": "python",
   "nbconvert_exporter": "python",
   "pygments_lexer": "ipython3",
   "version": "3.9.10"
  }
 },
 "nbformat": 4,
 "nbformat_minor": 5
}
