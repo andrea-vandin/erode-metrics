{
 "cells": [
  {
   "cell_type": "markdown",
   "id": "400e687b-0231-4684-9f6d-f01cd4632097",
   "metadata": {},
   "source": [
    "# Install and load py4j"
   ]
  },
  {
   "cell_type": "code",
   "execution_count": 56,
   "id": "8efdf380-b5b2-4157-877d-9a958d4fd37e",
   "metadata": {},
   "outputs": [],
   "source": [
    "#Install and load py4j\n",
    "#%pip install py4j\n",
    "from py4j.java_gateway import JavaGateway,GatewayParameters"
   ]
  },
  {
   "cell_type": "markdown",
   "id": "a84d00e0-437f-4e74-aead-f996ff493ecd",
   "metadata": {},
   "source": [
    "# Connect java-python"
   ]
  },
  {
   "cell_type": "markdown",
   "id": "c6acfdb4-ebe0-40d3-91c8-3655454bc680",
   "metadata": {},
   "source": [
    "Before running this notebook, it is necessary to run erodeMetrics.jar passing argument the port specified in the next cell (25336)\n",
    "- E.g.: java -jar erode4Colomoto.jar 25336"
   ]
  },
  {
   "cell_type": "code",
   "execution_count": 57,
   "id": "4d62a129-569a-43e5-9aa2-23014ea63e26",
   "metadata": {},
   "outputs": [],
   "source": [
    "#Get the current directory, useful later\n",
    "import os\n",
    "current_path=os.getcwd()\n",
    "\n",
    "#Connect python and java\n",
    "#gateway = JavaGateway()#default port: 25333\n",
    "jvm_port=25336\n",
    "gateway = JavaGateway(gateway_parameters=GatewayParameters(port=jvm_port))\n",
    "\n",
    "erode=gateway.entry_point\n",
    "\n",
    "#Now, I can call any Java method 'm' from class EntryPointBNColomoto.\n",
    "# I just need to write: erode.m()"
   ]
  },
  {
   "cell_type": "markdown",
   "id": "0b64af26-270c-479e-a054-a5d1f29deb19",
   "metadata": {},
   "source": [
    "# Load an ERODE model"
   ]
  },
  {
   "cell_type": "code",
   "execution_count": 59,
   "id": "834323e8-11fd-4358-ab7f-8773f56be837",
   "metadata": {},
   "outputs": [
    {
     "name": "stdout",
     "output_type": "stream",
     "text": [
      "The partition has 1 block out of 3 species:\n",
      "Block 1, Size: 3\n",
      "0-x0 \n",
      "1-x1 \n",
      "2-x2 \n",
      "\n",
      "\n"
     ]
    }
   ],
   "source": [
    "#erode.loadModel(\"distr/AM.ode\");\n",
    "erode.loadModel(\"AM.ode\");\n",
    "obtained = erode.computeBB();\n",
    "obtained\n",
    "print(erode.getPartitionString(obtained))"
   ]
  },
  {
   "cell_type": "code",
   "execution_count": 60,
   "id": "bc63a113-e0e0-48ed-a887-1abfef1dd99b",
   "metadata": {},
   "outputs": [],
   "source": [
    "a=erode.computeMetrics()"
   ]
  },
  {
   "cell_type": "code",
   "execution_count": 61,
   "id": "c691dacd-33c8-468f-973d-7cc6e40dab80",
   "metadata": {},
   "outputs": [
    {
     "name": "stdout",
     "output_type": "stream",
     "text": [
      "Solution:\n",
      "Objective value = 3.9\n",
      "x = 1.0\n",
      "y = 0.9\n",
      "\n"
     ]
    }
   ],
   "source": [
    "for s in a:\n",
    "    print(s)"
   ]
  },
  {
   "cell_type": "code",
   "execution_count": null,
   "id": "80f703f8-dea3-4b26-a73f-728b8fe21f4f",
   "metadata": {},
   "outputs": [],
   "source": []
  }
 ],
 "metadata": {
  "kernelspec": {
   "display_name": "env_research",
   "language": "python",
   "name": "env_research"
  },
  "language_info": {
   "codemirror_mode": {
    "name": "ipython",
    "version": 3
   },
   "file_extension": ".py",
   "mimetype": "text/x-python",
   "name": "python",
   "nbconvert_exporter": "python",
   "pygments_lexer": "ipython3",
   "version": "3.9.10"
  },
  "toc-autonumbering": true
 },
 "nbformat": 4,
 "nbformat_minor": 5
}
