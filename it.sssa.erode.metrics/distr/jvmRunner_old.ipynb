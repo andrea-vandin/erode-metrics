{
 "cells": [
  {
   "cell_type": "code",
   "execution_count": 1,
   "id": "1ab58d8f-3839-4b6f-8f23-a01ca3e27452",
   "metadata": {},
   "outputs": [],
   "source": [
    "from contextlib import closing\n",
    "import os\n",
    "import platform\n",
    "import socket\n",
    "import subprocess\n",
    "from subprocess import PIPE\n",
    "import tempfile\n",
    "import pandas as pd\n",
    "\n",
    "from py4j.java_gateway import JavaGateway, GatewayParameters\n",
    "from py4j.java_collections import ListConverter"
   ]
  },
  {
   "cell_type": "code",
   "execution_count": 2,
   "id": "64ff086a-8c18-45a9-bb0f-f410a529e5ef",
   "metadata": {},
   "outputs": [],
   "source": [
    "__ERODE_JAR__ = \"erodeMetrics.jar\"#os.path.join(os.path.dirname(__file__), \"erodeMetrics.jar\")\n",
    "def _start_server():\n",
    "    # find a free port\n",
    "    for port in range(25333, 65545):\n",
    "        with closing(socket.socket(socket.AF_INET, socket.SOCK_STREAM)) as s:\n",
    "            dest_addr = (\"127.0.0.1\", port)\n",
    "            if s.connect_ex(dest_addr):\n",
    "                break\n",
    "\n",
    "    #ld_path = __ERODE_LIB_DIR__\n",
    "    #java=\"java\"\n",
    "    java =\"/Library/Java/JavaVirtualMachines/jdk-11.0.14.jdk/Contents/Home/bin/java\"\n",
    "    argv = [java, #f'-Djava.library.path=\"{ld_path}\"',\n",
    "                \"-jar\", __ERODE_JAR__, str(port)]\n",
    "\n",
    "    if platform.system() == \"Linux\":\n",
    "        env_ld_path = os.getenv(\"LD_LIBRARY_PATH\")\n",
    "        if env_ld_path:\n",
    "            ld_path = f\"{ld_path}:{env_ld_path}\"\n",
    "        env ={\"LD_LIBRARY_PATH\": ld_path}\n",
    "        proc = subprocess.Popen(\" \".join(argv), stdout=PIPE,\n",
    "                shell=True, env=env)\n",
    "    else:\n",
    "        proc = subprocess.Popen(argv, stdout=PIPE)\n",
    "    proc.stdout.readline()\n",
    "    return proc, port\n",
    "\n",
    "def _stop_server(proc):\n",
    "    proc.terminate()\n",
    "    try:\n",
    "        proc.wait(5)\n",
    "    except subprocess.TimeoutExpired:\n",
    "        proc.kill()\n",
    "        proc.wait()\n",
    "        \n",
    "def j_to_py_matrix(metrics_java):\n",
    "    metrics_python= [ list(line) for line in metrics_java ]\n",
    "    return metrics_python        "
   ]
  },
  {
   "cell_type": "code",
   "execution_count": 5,
   "id": "0c9e2e55-3f8b-4371-8ef5-5e9ff84d924c",
   "metadata": {},
   "outputs": [
    {
     "data": {
      "text/plain": [
       "<Popen: returncode: None args: ['/Library/Java/JavaVirtualMachines/jdk-11.0....>"
      ]
     },
     "execution_count": 5,
     "metadata": {},
     "output_type": "execute_result"
    }
   ],
   "source": [
    "#_stop_server(_proc)\n",
    "_proc, _port = _start_server()\n",
    "gw_params = GatewayParameters(port=_port)#, auto_convert=True)\n",
    "_gw = JavaGateway(gateway_parameters=gw_params)\n",
    "erode = _gw.entry_point\n",
    "_proc"
   ]
  },
  {
   "cell_type": "code",
   "execution_count": 6,
   "id": "16acb318-b160-44ea-9b5b-be3077906fa4",
   "metadata": {},
   "outputs": [],
   "source": [
    "erode.importAffine(\"test2.csv\",\"test2B.csv\");\n",
    "nVars=erode.getVariablesNum()\n"
   ]
  },
  {
   "cell_type": "code",
   "execution_count": 4,
   "id": "b3f09ca3-49e4-4ccb-8cc1-2d8275279a92",
   "metadata": {},
   "outputs": [],
   "source": [
    "# erode.loadModel(\"AM.ode\");\n",
    "# obtained = erode.computeBB();\n",
    "# obtained\n",
    "# print(erode.getPartitionString(obtained))\n",
    "\n",
    "#a=erode.computeMetrics()\n",
    "#for s in a:\n",
    "#    print(s)"
   ]
  },
  {
   "cell_type": "code",
   "execution_count": 5,
   "id": "48dcafdb-823e-4647-8b69-ee002ae310f8",
   "metadata": {},
   "outputs": [
    {
     "data": {
      "text/plain": [
       "25333"
      ]
     },
     "execution_count": 5,
     "metadata": {},
     "output_type": "execute_result"
    }
   ],
   "source": [
    "_port"
   ]
  },
  {
   "cell_type": "code",
   "execution_count": 6,
   "id": "b200771c-669f-4801-a306-e03596c6420a",
   "metadata": {},
   "outputs": [
    {
     "data": {
      "text/html": [
       "<div>\n",
       "<style scoped>\n",
       "    .dataframe tbody tr th:only-of-type {\n",
       "        vertical-align: middle;\n",
       "    }\n",
       "\n",
       "    .dataframe tbody tr th {\n",
       "        vertical-align: top;\n",
       "    }\n",
       "\n",
       "    .dataframe thead th {\n",
       "        text-align: right;\n",
       "    }\n",
       "</style>\n",
       "<table border=\"1\" class=\"dataframe\">\n",
       "  <thead>\n",
       "    <tr style=\"text-align: right;\">\n",
       "      <th></th>\n",
       "      <th>0</th>\n",
       "    </tr>\n",
       "  </thead>\n",
       "  <tbody>\n",
       "    <tr>\n",
       "      <th>0</th>\n",
       "      <td>0</td>\n",
       "    </tr>\n",
       "    <tr>\n",
       "      <th>1</th>\n",
       "      <td>0</td>\n",
       "    </tr>\n",
       "    <tr>\n",
       "      <th>2</th>\n",
       "      <td>0</td>\n",
       "    </tr>\n",
       "  </tbody>\n",
       "</table>\n",
       "</div>"
      ],
      "text/plain": [
       "   0\n",
       "0  0\n",
       "1  0\n",
       "2  0"
      ]
     },
     "execution_count": 6,
     "metadata": {},
     "output_type": "execute_result"
    }
   ],
   "source": [
    "def loadERODESparseMatrix(AmatrixFile):\n",
    "    Asparse=pd.read_csv(AmatrixFile)\n",
    "    Asparse.columns=[\"row\",\"column\",\"A_{r,c}\"]\n",
    "    Asparse0=Asparse-1\n",
    "    Asparse0[\"A_{r,c}\"]=Asparse[\"A_{r,c}\"]\n",
    "    return Asparse0\n",
    "Asparse=loadERODESparseMatrix(\"test2.csv\")\n",
    "Asparse\n",
    "\n",
    "def loadERODEB(BFile):\n",
    "    #pd.read_csv(\"test2B.csv\")\n",
    "    B=pd.read_csv(BFile,header=None)\n",
    "    return B\n",
    "B=loadERODEB(\"test2B.csv\")\n",
    "B"
   ]
  },
  {
   "cell_type": "code",
   "execution_count": 7,
   "id": "78dd5f80-49b6-4a74-bd39-048c36567f5b",
   "metadata": {},
   "outputs": [
    {
     "name": "stdout",
     "output_type": "stream",
     "text": [
      "test2.csv: 2 reactions, 3 species.\n",
      "Species:\n",
      "[S0, S1, S2]\n",
      " Reactions:\n",
      "[S1-- (1.0) -->S0+S1, S2-- (1.0) -->S0+S2]\n",
      "The partition has 2 blocks out of 3 species:\n",
      "Block 1, Size: 1\n",
      "0-S0 \n",
      "\n",
      "Block 2, Size: 2\n",
      "1-S1 \n",
      "2-S2 \n",
      "\n",
      "\n",
      "0.0 4.0 4.0 \n",
      "4.0 0.0 0.0 \n",
      "4.0 0.0 0.0 "
     ]
    }
   ],
   "source": [
    "\n",
    "erode.importAffine(\"test2.csv\",\"test2B.csv\");\n",
    "nVars=erode.getVariablesNum()\n",
    "\n",
    "modelString=erode.getModelString()\n",
    "print(modelString)\n",
    "\n",
    "obtained = erode.computeBB();\n",
    "obtained\n",
    "print(erode.getPartitionString(obtained))\n",
    "\n",
    "metrics = erode.computeMetrics(obtained, 2.0);\n",
    "for r in range(nVars):\n",
    "    print()\n",
    "    for c in range(nVars):\n",
    "        print(metrics[r][c],end=\" \")"
   ]
  },
  {
   "cell_type": "code",
   "execution_count": 9,
   "id": "7956139a-57d7-4700-a8c7-632debc59398",
   "metadata": {},
   "outputs": [
    {
     "data": {
      "text/plain": [
       "[[0.0, 4.0, 4.0], [4.0, 0.0, 0.0], [4.0, 0.0, 0.0]]"
      ]
     },
     "execution_count": 9,
     "metadata": {},
     "output_type": "execute_result"
    }
   ],
   "source": [
    "def j_to_py_matrix(metrics_java):\n",
    "    metrics_python= [ list(line) for line in metrics_java ]\n",
    "    return metrics_python\n",
    "metrics_python=j_to_py_matrix(metrics)\n",
    "metrics_python"
   ]
  },
  {
   "cell_type": "code",
   "execution_count": null,
   "id": "f9c90339-dd75-40c9-bd16-3cf1a73fde1c",
   "metadata": {},
   "outputs": [],
   "source": [
    "\n",
    "\n"
   ]
  },
  {
   "cell_type": "code",
   "execution_count": 10,
   "id": "bc55ed84-a6fa-4144-a110-7c8a6d8b4074",
   "metadata": {},
   "outputs": [],
   "source": [
    "_stop_server(_proc)"
   ]
  },
  {
   "cell_type": "code",
   "execution_count": null,
   "id": "5f115649-b6aa-4d4a-b699-f7ad241f4f35",
   "metadata": {},
   "outputs": [],
   "source": []
  }
 ],
 "metadata": {
  "kernelspec": {
   "display_name": "env_research",
   "language": "python",
   "name": "env_research"
  },
  "language_info": {
   "codemirror_mode": {
    "name": "ipython",
    "version": 3
   },
   "file_extension": ".py",
   "mimetype": "text/x-python",
   "name": "python",
   "nbconvert_exporter": "python",
   "pygments_lexer": "ipython3",
   "version": "3.9.10"
  }
 },
 "nbformat": 4,
 "nbformat_minor": 5
}
